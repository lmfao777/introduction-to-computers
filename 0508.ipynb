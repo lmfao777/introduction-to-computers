{
  "nbformat": 4,
  "nbformat_minor": 0,
  "metadata": {
    "colab": {
      "provenance": [],
      "authorship_tag": "ABX9TyNJWwPjvY8hUrxmt9Bs0wdT",
      "include_colab_link": true
    },
    "kernelspec": {
      "name": "python3",
      "display_name": "Python 3"
    },
    "language_info": {
      "name": "python"
    }
  },
  "cells": [
    {
      "cell_type": "markdown",
      "metadata": {
        "id": "view-in-github",
        "colab_type": "text"
      },
      "source": [
        "<a href=\"https://colab.research.google.com/github/lmfao777/introduction-to-computers/blob/main/0508.ipynb\" target=\"_parent\"><img src=\"https://colab.research.google.com/assets/colab-badge.svg\" alt=\"Open In Colab\"/></a>"
      ]
    },
    {
      "cell_type": "code",
      "execution_count": 30,
      "metadata": {
        "colab": {
          "base_uri": "https://localhost:8080/"
        },
        "id": "balpVQHz9aG6",
        "outputId": "263f03ae-a7e0-4eb4-e5e9-72ecc5a2d120"
      },
      "outputs": [
        {
          "output_type": "stream",
          "name": "stdout",
          "text": [
            "34\n",
            "體溫正常!\n"
          ]
        }
      ],
      "source": [
        "體溫 = int(input())\n",
        "if 體溫 >= 37.5:\n",
        "    print(\"體溫過高!\")\n",
        "elif 37 < 體溫 <= 37.4:\n",
        "    print(\"體溫略高!\")\n",
        "elif 34 <= 體溫 <= 36.9:\n",
        "    print(\"體溫正常!\")\n",
        "else:\n",
        "    print(\"體溫異常,請重新量測!\")\n"
      ]
    },
    {
      "cell_type": "code",
      "source": [
        "score = int(input())\n",
        "\n",
        "if score >= 90:\n",
        "    print(\"成績：A\")\n",
        "elif 80 <= score <= 89:\n",
        "    print(\"成績：B\")\n",
        "elif 70 <= score <= 79:\n",
        "    print(\"成績：C\")\n",
        "elif 60 <= score <= 69:\n",
        "    print(\"成績：D\")\n",
        "else:\n",
        "    print(\"成績：E\")\n"
      ],
      "metadata": {
        "colab": {
          "base_uri": "https://localhost:8080/"
        },
        "id": "10JCAsr8AJSW",
        "outputId": "3f12b146-6be5-4c56-845e-dc2e27aeac0f"
      },
      "execution_count": 24,
      "outputs": [
        {
          "output_type": "stream",
          "name": "stdout",
          "text": [
            "99\n",
            "成績：A\n"
          ]
        }
      ]
    },
    {
      "cell_type": "code",
      "source": [
        "month=int(input())\n",
        "if(month>=1 and month<=12):\n",
        "  if(month==3 or month==4 or month==5):\n",
        "    print(\"{} is spring\".format(month))\n",
        "  elif(month==6 or month==7 or month==8):\n",
        "    print(\"{} is summer\".format(month))\n",
        "  elif(month==9 or month==10 or month==11):\n",
        "    print(\"{} is autumn\".format(month))\n",
        "  else:\n",
        "    print(\"{} is winter\".format(month))\n",
        "else:\n",
        "  print('input error')"
      ],
      "metadata": {
        "colab": {
          "base_uri": "https://localhost:8080/"
        },
        "id": "RbQHiM1nEQMK",
        "outputId": "a6f45aaa-1057-427c-dcf4-8754664ebb52"
      },
      "execution_count": 29,
      "outputs": [
        {
          "output_type": "stream",
          "name": "stdout",
          "text": [
            "12\n",
            "12 is winter\n"
          ]
        }
      ]
    },
    {
      "cell_type": "code",
      "source": [],
      "metadata": {
        "id": "b4fWfw5cFDsz"
      },
      "execution_count": null,
      "outputs": []
    }
  ]
}